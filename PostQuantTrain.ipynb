{
  "nbformat": 4,
  "nbformat_minor": 0,
  "metadata": {
    "colab": {
      "provenance": []
    },
    "kernelspec": {
      "name": "python3",
      "display_name": "Python 3"
    },
    "language_info": {
      "name": "python"
    },
    "accelerator": "GPU",
    "gpuClass": "standard"
  },
  "cells": [
    {
      "cell_type": "code",
      "source": [
        "!git clone https://github.com/heysm/answerboxes.git "
      ],
      "metadata": {
        "colab": {
          "base_uri": "https://localhost:8080/"
        },
        "id": "iBhbq62ALvko",
        "outputId": "2cf2d6cd-8b5d-468b-ba7a-996549e45b71"
      },
      "execution_count": null,
      "outputs": [
        {
          "output_type": "stream",
          "name": "stdout",
          "text": [
            "Cloning into 'answerboxes'...\n",
            "remote: Enumerating objects: 17, done.\u001b[K\n",
            "remote: Counting objects: 100% (17/17), done.\u001b[K\n",
            "remote: Compressing objects: 100% (12/12), done.\u001b[K\n",
            "remote: Total 17 (delta 1), reused 0 (delta 0), pack-reused 0\u001b[K\n",
            "Unpacking objects: 100% (17/17), 94.59 MiB | 7.61 MiB/s, done.\n"
          ]
        }
      ]
    },
    {
      "cell_type": "code",
      "source": [
        "!gdown --id \"1ImOLo4ug2BOMvqxbrSffiMWGWxvkE2N0&confirm=t\""
      ],
      "metadata": {
        "colab": {
          "base_uri": "https://localhost:8080/"
        },
        "id": "WwVtrTxjMKOa",
        "outputId": "e922ad88-89c9-487b-e76b-199e7ae3f1af"
      },
      "execution_count": null,
      "outputs": [
        {
          "output_type": "stream",
          "name": "stdout",
          "text": [
            "/usr/local/lib/python3.8/dist-packages/gdown/cli.py:127: FutureWarning: Option `--id` was deprecated in version 4.3.1 and will be removed in 5.0. You don't need to pass it anymore to use a file ID.\n",
            "  warnings.warn(\n",
            "Downloading...\n",
            "From: https://drive.google.com/uc?id=1ImOLo4ug2BOMvqxbrSffiMWGWxvkE2N0&confirm=t\n",
            "To: /content/folds.zip\n",
            "100% 94.5M/94.5M [00:03<00:00, 31.5MB/s]\n"
          ]
        }
      ]
    },
    {
      "cell_type": "code",
      "source": [
        "#importing stuffs\n",
        "import numpy as np\n",
        "import gc \n",
        "import os\n",
        "import ctypes\n",
        "import PIL\n",
        "import PIL.Image\n",
        "import tensorflow as tf\n",
        "import tensorflow_datasets as tfds\n",
        "import tensorflow_hub as hub\n",
        "from tensorflow.keras import layers\n",
        "from tensorflow.keras.models import Sequential\n",
        "import matplotlib.pyplot as plt\n",
        "import seaborn as sns\n",
        "from keras.layers import LeakyReLU\n",
        "import pandas as pd\n",
        "\n",
        "sns.set()"
      ],
      "metadata": {
        "id": "cuzvhyPRMMs1"
      },
      "execution_count": null,
      "outputs": []
    },
    {
      "cell_type": "code",
      "source": [
        "# transfer learning model \n",
        "# mobile net V2 model used\n",
        "\n",
        "feature_extractor_model = \"https://tfhub.dev/google/tf2-preview/mobilenet_v2/feature_vector/4\"\n",
        "\n",
        "pretrained_model_without_top_layer = hub.KerasLayer(\n",
        "    feature_extractor_model, input_shape=(224, 224, 3), trainable=False)"
      ],
      "metadata": {
        "id": "fRBF91eywToN"
      },
      "execution_count": null,
      "outputs": []
    },
    {
      "cell_type": "code",
      "source": [
        "# pflu activation function\n",
        "def pflu_activation(x):\n",
        "    return x*0.5*(1+(x/(1+x**2)**0.5))\n",
        "\n",
        "#fpflu actiavtion function\n",
        "def fpflu_activation(x):\n",
        "    return tf.math.maximum(x,x/(1+x**2)) "
      ],
      "metadata": {
        "id": "wKoNfBkyMPaY"
      },
      "execution_count": null,
      "outputs": []
    },
    {
      "cell_type": "code",
      "source": [
        "from keras.models import load_model\n",
        "\n",
        "path = '/content/answerboxes/models/'\n",
        "\n",
        "model1 = load_model(path + 'fold1_95_29.h5', custom_objects={'KerasLayer': hub.KerasLayer , 'fpflu_activation' :fpflu_activation , 'pflu_activation' : pflu_activation  })\n",
        "model2 = load_model(path +'fold2_95_88.h5', custom_objects={'KerasLayer': hub.KerasLayer , 'fpflu_activation' :fpflu_activation , 'pflu_activation' : pflu_activation  })\n",
        "model3 = load_model( path + 'fold3_93_97.h5', custom_objects={'KerasLayer': hub.KerasLayer , 'fpflu_activation' :fpflu_activation , 'pflu_activation' : pflu_activation  })\n",
        "model4 = load_model( path + 'fold4_97_45.h5', custom_objects={'KerasLayer': hub.KerasLayer , 'fpflu_activation' :fpflu_activation , 'pflu_activation' : pflu_activation  })\n",
        "model5 = load_model( path +'fold5_97_20.h5', custom_objects={'KerasLayer': hub.KerasLayer , 'fpflu_activation' :fpflu_activation , 'pflu_activation' : pflu_activation  })"
      ],
      "metadata": {
        "id": "FgJV2TA6MrF9"
      },
      "execution_count": null,
      "outputs": []
    },
    {
      "cell_type": "code",
      "source": [
        "models = [model1, model2, model3, model4, model5]"
      ],
      "metadata": {
        "id": "7DZIn5ewwoV1"
      },
      "execution_count": null,
      "outputs": []
    },
    {
      "cell_type": "code",
      "source": [
        "import pathlib"
      ],
      "metadata": {
        "id": "zRHMRP41Nmoi"
      },
      "execution_count": null,
      "outputs": []
    },
    {
      "cell_type": "code",
      "source": [
        "def get_interpreter(new_model) : \n",
        "  converter = tf.lite.TFLiteConverter.from_keras_model(new_model)\n",
        "  tflite_model = converter.convert()\n",
        "\n",
        "  tflite_models_dir = pathlib.Path(\"/tmp/quant_model\")\n",
        "  tflite_models_dir.mkdir(exist_ok=True, parents=True)\n",
        "\n",
        "  tflite_model_file = tflite_models_dir/\"quant_model.tflite\"\n",
        "  tflite_model_file.write_bytes(tflite_model)\n",
        "\n",
        "  converter.optimizations = [tf.lite.Optimize.DEFAULT]\n",
        "  tflite_quant_model = converter.convert()\n",
        "  tflite_model_quant_file = tflite_models_dir/\"omr_quant.tflite\"\n",
        "  tflite_model_quant_file.write_bytes(tflite_quant_model)\n",
        "  interpreter_quant = tf.lite.Interpreter(model_path=str(tflite_model_quant_file))\n",
        "  interpreter_quant.allocate_tensors()\n",
        "  return interpreter_quant"
      ],
      "metadata": {
        "id": "7M0FwKwSw6SO"
      },
      "execution_count": null,
      "outputs": []
    },
    {
      "cell_type": "code",
      "source": [
        "from zipfile import ZipFile\n",
        "file_name = \"folds.zip\"\n",
        "  \n",
        "# opening the zip file in READ mode\n",
        "with ZipFile(file_name, 'r') as zip:\n",
        "    # printing all the contents of the zip file\n",
        "    #zip.printdir()\n",
        "  \n",
        "    # extracting all the files\n",
        "    print('Extracting all the files now...')\n",
        "    zip.extractall()\n",
        "    print('Done!')"
      ],
      "metadata": {
        "colab": {
          "base_uri": "https://localhost:8080/"
        },
        "id": "pmB1WkDON8Kx",
        "outputId": "271fa708-157b-4508-8d7d-0f936a29b335"
      },
      "execution_count": null,
      "outputs": [
        {
          "output_type": "stream",
          "name": "stdout",
          "text": [
            "Extracting all the files now...\n",
            "Done!\n"
          ]
        }
      ]
    },
    {
      "cell_type": "code",
      "source": [
        "import os\n",
        "import numpy as np\n",
        "from PIL import Image"
      ],
      "metadata": {
        "id": "XEY7jg8KPeM2"
      },
      "execution_count": null,
      "outputs": []
    },
    {
      "cell_type": "code",
      "source": [
        "def get_image_ds(folder_path) : \n",
        "\n",
        "  # create an empty list to store the image data\n",
        "  images = []\n",
        "\n",
        "  # loop through all files in the image folder\n",
        "  for filename in os.listdir(folder_path):\n",
        "      # check if the file is an image\n",
        "      if filename.endswith(\".jpg\") or filename.endswith(\".png\"):\n",
        "          # open the image file\n",
        "          img = Image.open(os.path.join(folder_path, filename))\n",
        "          img = img.resize((224, 224), Image.BILINEAR)\n",
        "          # convert the image to a numpy array\n",
        "          img_data = np.array(img, dtype=float)\n",
        "          # append the image data to the list\n",
        "          img_data /= 255.0\n",
        "          images.append(img_data)\n",
        "\n",
        "  # convert the list of images to a numpy array\n",
        "  images = np.array(images)\n",
        "  return images"
      ],
      "metadata": {
        "id": "xoWYyzjPPVgy"
      },
      "execution_count": null,
      "outputs": []
    },
    {
      "cell_type": "code",
      "source": [
        "import os\n",
        "import numpy as np\n",
        "from PIL import Image\n",
        "\n",
        "# specify the path to the image folder\n",
        "folder_path = '/content/folds/5/empty'\n",
        "\n",
        "# create an empty list to store the image data\n",
        "images = []\n",
        "\n",
        "# loop through all files in the image folder\n",
        "for filename in os.listdir(folder_path):\n",
        "    # check if the file is an image\n",
        "    if filename.endswith(\".jpg\") or filename.endswith(\".png\"):\n",
        "        # open the image file\n",
        "        img = Image.open(os.path.join(folder_path, filename))\n",
        "        img = img.resize((224, 224))\n",
        "        # convert the image to a numpy array\n",
        "        img_data = np.array(img, dtype=float)\n",
        "        # append the image data to the list\n",
        "        img_data /= 255.0\n",
        "        images.append(img_data)\n",
        "\n",
        "# convert the list of images to a numpy array\n",
        "images = np.array(images)"
      ],
      "metadata": {
        "id": "AjhkPjZaK79c"
      },
      "execution_count": null,
      "outputs": []
    },
    {
      "cell_type": "code",
      "execution_count": null,
      "metadata": {
        "id": "zfJLsTS4KyP6"
      },
      "outputs": [],
      "source": [
        "# A helper function to evaluate the TF Lite model using \"test\" dataset.\n",
        "def evaluate_model(interpreter, label, images):\n",
        "  input_index = interpreter.get_input_details()[0][\"index\"]\n",
        "  output_index = interpreter.get_output_details()[0][\"index\"]\n",
        "\n",
        "  # Run predictions on every image in the \"test\" dataset.\n",
        "  prediction_digits = []\n",
        "  for test_image in images:\n",
        "    # Pre-processing: add batch dimension and convert to float32 to match with\n",
        "    # the model's input data format.\n",
        "    test_image = np.expand_dims(test_image, axis=0).astype(np.float32)\n",
        "    interpreter.set_tensor(input_index, test_image)\n",
        "\n",
        "    # Run inference.\n",
        "    interpreter.invoke()\n",
        "\n",
        "    # Post-processing: remove batch dimension and find the digit with highest\n",
        "    # probability.\n",
        "    output = interpreter.tensor(output_index)\n",
        "    digit = np.argmax(output()[0])\n",
        "    prediction_digits.append(digit)\n",
        "\n",
        "  # Compare prediction results with ground truth labels to calculate accuracy.\n",
        "  accurate_count = 0\n",
        "  for index in range(len(prediction_digits)):\n",
        "    if prediction_digits[index] == label:\n",
        "      accurate_count += 1\n",
        "  accuracy = accurate_count * 1.0 / len(prediction_digits)\n",
        "\n",
        "  return accuracy"
      ]
    },
    {
      "cell_type": "code",
      "source": [
        "import time\n",
        "from datetime import datetime"
      ],
      "metadata": {
        "id": "XJwPptti0qHD"
      },
      "execution_count": null,
      "outputs": []
    },
    {
      "cell_type": "code",
      "source": [
        "def calculate_accuracy() :\n",
        "  for i in range(5) :\n",
        "    print(i)\n",
        "    total_acc = 0\n",
        "    date_time = datetime.now()\n",
        "    s = time.mktime(date_time.timetuple())\n",
        "    for file in [[\"confirmed\",0], [\"crossedout\",1], [\"empty\",2]] : \n",
        "      folder_path = \"/content/folds/{}/{}\".format(i+1,file[0]) \n",
        "      images = get_image_ds(folder_path)\n",
        "      interpreter_quant = get_interpreter(models[i])\n",
        "      acc = evaluate_model(interpreter_quant, file[1], images)\n",
        "      print(acc)\n",
        "      total_acc += acc\n",
        "    print(total_acc/3)\n",
        "    date_time = datetime.now()\n",
        "    e = time.mktime(date_time.timetuple())\n",
        "    print(e-s)\n",
        "    print()"
      ],
      "metadata": {
        "id": "_yTAg48RPpk1"
      },
      "execution_count": null,
      "outputs": []
    },
    {
      "cell_type": "code",
      "source": [
        "import gc\n",
        "gc.collect()"
      ],
      "metadata": {
        "colab": {
          "base_uri": "https://localhost:8080/"
        },
        "id": "7rJB4Tmj0CKp",
        "outputId": "0172e867-125d-4815-8ba4-3f026b7983f7"
      },
      "execution_count": null,
      "outputs": [
        {
          "output_type": "execute_result",
          "data": {
            "text/plain": [
              "4818"
            ]
          },
          "metadata": {},
          "execution_count": 17
        }
      ]
    },
    {
      "cell_type": "code",
      "source": [
        "calculate_accuracy()"
      ],
      "metadata": {
        "colab": {
          "base_uri": "https://localhost:8080/"
        },
        "id": "732TjJ04xqY_",
        "outputId": "866bc5ec-0737-4b7c-c4e7-6275dfdb1280"
      },
      "execution_count": null,
      "outputs": [
        {
          "output_type": "stream",
          "name": "stdout",
          "text": [
            "0\n",
            "0.9705882352941176\n",
            "0.9029411764705882\n",
            "0.9926470588235294\n",
            "0.9553921568627451\n",
            "157.0\n",
            "\n",
            "1\n",
            "0.9794117647058823\n",
            "0.9058823529411765\n",
            "0.9955882352941177\n",
            "0.9602941176470589\n",
            "166.0\n",
            "\n",
            "2\n",
            "0.9735294117647059\n",
            "0.8235294117647058\n",
            "1.0\n",
            "0.9323529411764705\n",
            "162.0\n",
            "\n",
            "3\n",
            "0.9926470588235294\n",
            "0.913235294117647\n",
            "0.9955882352941177\n",
            "0.967156862745098\n",
            "158.0\n",
            "\n",
            "4\n",
            "0.9691176470588235\n",
            "0.9205882352941176\n",
            "1.0\n",
            "0.9632352941176471\n",
            "159.0\n",
            "\n"
          ]
        }
      ]
    },
    {
      "cell_type": "code",
      "source": [],
      "metadata": {
        "id": "9VAklow0PDh6"
      },
      "execution_count": null,
      "outputs": []
    }
  ]
}