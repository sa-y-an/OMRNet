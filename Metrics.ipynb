{
  "nbformat": 4,
  "nbformat_minor": 0,
  "metadata": {
    "colab": {
      "name": "Metrics.ipynb",
      "provenance": [],
      "include_colab_link": true
    },
    "kernelspec": {
      "name": "python3",
      "display_name": "Python 3"
    },
    "language_info": {
      "name": "python"
    },
    "accelerator": "GPU"
  },
  "cells": [
    {
      "cell_type": "markdown",
      "metadata": {
        "id": "view-in-github",
        "colab_type": "text"
      },
      "source": [
        "<a href=\"https://colab.research.google.com/github/sa-y-an/OMR_Net/blob/main/Metrics.ipynb\" target=\"_parent\"><img src=\"https://colab.research.google.com/assets/colab-badge.svg\" alt=\"Open In Colab\"/></a>"
      ]
    },
    {
      "cell_type": "code",
      "metadata": {
        "id": "7ZkbFvsm59dC"
      },
      "source": [
        "#importing stuffs\n",
        "import numpy as np\n",
        "import gc \n",
        "import os\n",
        "import ctypes\n",
        "import PIL\n",
        "import PIL.Image\n",
        "import tensorflow as tf\n",
        "import tensorflow_datasets as tfds\n",
        "import tensorflow_hub as hub\n",
        "from tensorflow.keras import layers\n",
        "from tensorflow.keras.models import Sequential\n",
        "import matplotlib.pyplot as plt\n",
        "import seaborn as sns\n",
        "from keras.layers import LeakyReLU\n",
        "import pandas as pd\n",
        "\n",
        "sns.set()"
      ],
      "execution_count": null,
      "outputs": []
    },
    {
      "cell_type": "markdown",
      "metadata": {
        "id": "o5wu6FAq5dta"
      },
      "source": [
        "Getting the data set"
      ]
    },
    {
      "cell_type": "code",
      "metadata": {
        "colab": {
          "base_uri": "https://localhost:8080/"
        },
        "id": "TV6naPXarpVk",
        "outputId": "370b2840-3dfb-405c-93b6-77c12679f948"
      },
      "source": [
        "!wget https://github.com/sa-y-an/answersheet_data/raw/main/folds.zip "
      ],
      "execution_count": null,
      "outputs": [
        {
          "output_type": "stream",
          "text": [
            "--2021-05-10 14:24:32--  https://github.com/sa-y-an/answersheet_data/raw/main/folds.zip\n",
            "Resolving github.com (github.com)... 140.82.112.3\n",
            "Connecting to github.com (github.com)|140.82.112.3|:443... connected.\n",
            "HTTP request sent, awaiting response... 302 Found\n",
            "Location: https://media.githubusercontent.com/media/sa-y-an/answersheet_data/main/folds.zip [following]\n",
            "--2021-05-10 14:24:32--  https://media.githubusercontent.com/media/sa-y-an/answersheet_data/main/folds.zip\n",
            "Resolving media.githubusercontent.com (media.githubusercontent.com)... 185.199.108.133, 185.199.109.133, 185.199.110.133, ...\n",
            "Connecting to media.githubusercontent.com (media.githubusercontent.com)|185.199.108.133|:443... connected.\n",
            "HTTP request sent, awaiting response... 200 OK\n",
            "Length: 94507401 (90M) [application/zip]\n",
            "Saving to: ‘folds.zip’\n",
            "\n",
            "folds.zip           100%[===================>]  90.13M   345MB/s    in 0.3s    \n",
            "\n",
            "2021-05-10 14:24:33 (345 MB/s) - ‘folds.zip’ saved [94507401/94507401]\n",
            "\n"
          ],
          "name": "stdout"
        }
      ]
    },
    {
      "cell_type": "code",
      "metadata": {
        "colab": {
          "base_uri": "https://localhost:8080/"
        },
        "id": "jZRXHVNo5l_u",
        "outputId": "46cf4be3-933a-456d-fe5d-256580dcb1e9"
      },
      "source": [
        "from zipfile import ZipFile\n",
        "file_name = \"folds.zip\"\n",
        "  \n",
        "# opening the zip file in READ mode\n",
        "with ZipFile(file_name, 'r') as zip:\n",
        "    # printing all the contents of the zip file\n",
        "    #zip.printdir()\n",
        "  \n",
        "    # extracting all the files\n",
        "    print('Extracting all the files now...')\n",
        "    zip.extractall()\n",
        "    print('Done!')"
      ],
      "execution_count": null,
      "outputs": [
        {
          "output_type": "stream",
          "text": [
            "Extracting all the files now...\n",
            "Done!\n"
          ],
          "name": "stdout"
        }
      ]
    },
    {
      "cell_type": "code",
      "metadata": {
        "colab": {
          "base_uri": "https://localhost:8080/"
        },
        "id": "xIFQn5lv5z0W",
        "outputId": "99fcb107-8de7-4f57-dfca-292c328a34e4"
      },
      "source": [
        "#preparing dataset\n",
        "\n",
        "import pathlib\n",
        "data_dir1 = '/content/folds/1'\n",
        "data_dir2 = '/content/folds/2'\n",
        "data_dir3 = '/content/folds/3'\n",
        "data_dir4 = '/content/folds/4'\n",
        "data_dir5 = '/content/folds/5'\n",
        "\n",
        "data_dir1 = pathlib.Path(data_dir1)\n",
        "data_dir2 = pathlib.Path(data_dir2)\n",
        "data_dir3 = pathlib.Path(data_dir3)\n",
        "data_dir4 = pathlib.Path(data_dir4)\n",
        "data_dir5 = pathlib.Path(data_dir5)\n",
        "\n",
        "\n",
        "batch_size = 32\n",
        "img_height = 224\n",
        "img_width = 224\n",
        "\n",
        "# fetching data from directory\n",
        "\n",
        "img_ds1=tf.keras.preprocessing.image_dataset_from_directory(\n",
        "        data_dir1,\n",
        "        seed=123,\n",
        "        image_size=(img_height, img_width),\n",
        "        batch_size=batch_size)\n",
        "\n",
        "img_ds2=tf.keras.preprocessing.image_dataset_from_directory(\n",
        "        data_dir2,\n",
        "        seed=123,\n",
        "        image_size=(img_height, img_width),\n",
        "        batch_size=batch_size)\n",
        "\n",
        "img_ds3=tf.keras.preprocessing.image_dataset_from_directory(\n",
        "        data_dir3,\n",
        "        seed=123,\n",
        "        image_size=(img_height, img_width),\n",
        "        batch_size=batch_size)\n",
        " \n",
        "img_ds4=tf.keras.preprocessing.image_dataset_from_directory(\n",
        "        data_dir4,\n",
        "        seed=123,\n",
        "        image_size=(img_height, img_width),\n",
        "        batch_size=batch_size)\n",
        "\n",
        "img_ds5=tf.keras.preprocessing.image_dataset_from_directory(\n",
        "        data_dir5,\n",
        "        seed=123,\n",
        "        image_size=(img_height, img_width),\n",
        "        batch_size=batch_size) \n",
        "\n",
        "# normalizing all the images to a float btw 0 , 2555\n",
        "\n",
        "def process(image,label):\n",
        "    image = tf.cast(image/255. ,tf.float32)\n",
        "    return image,label\n",
        "\n",
        "img_ds1 = img_ds1.map(process)\n",
        "img_ds2 = img_ds2.map(process)\n",
        "img_ds3 = img_ds3.map(process)\n",
        "img_ds4 = img_ds4.map(process)\n",
        "img_ds5 = img_ds5.map(process)"
      ],
      "execution_count": null,
      "outputs": [
        {
          "output_type": "stream",
          "text": [
            "Found 2040 files belonging to 3 classes.\n",
            "Found 2040 files belonging to 3 classes.\n",
            "Found 2040 files belonging to 3 classes.\n",
            "Found 2040 files belonging to 3 classes.\n",
            "Found 2040 files belonging to 3 classes.\n"
          ],
          "name": "stdout"
        }
      ]
    },
    {
      "cell_type": "markdown",
      "metadata": {
        "id": "3nAU8K_16Jgx"
      },
      "source": [
        "Custom Activation Function"
      ]
    },
    {
      "cell_type": "code",
      "metadata": {
        "id": "1d-axnBH55_R"
      },
      "source": [
        "# pflu activation function\n",
        "def pflu_activation(x):\n",
        "    return x*0.5*(1+(x/(1+x**2)**0.5))\n",
        "\n",
        "#fpflu actiavtion function\n",
        "def fpflu_activation(x):\n",
        "    return tf.math.maximum(x,x/(1+x**2))"
      ],
      "execution_count": null,
      "outputs": []
    },
    {
      "cell_type": "code",
      "metadata": {
        "id": "Zdy7_zNB6MGt"
      },
      "source": [
        "# transfer learning model \n",
        "# mobile net V2 model used\n",
        "\n",
        "feature_extractor_model = \"https://tfhub.dev/google/tf2-preview/mobilenet_v2/feature_vector/4\"\n",
        "\n",
        "pretrained_model_without_top_layer = hub.KerasLayer(\n",
        "    feature_extractor_model, input_shape=(224, 224, 3), trainable=False)"
      ],
      "execution_count": null,
      "outputs": []
    },
    {
      "cell_type": "code",
      "metadata": {
        "colab": {
          "base_uri": "https://localhost:8080/"
        },
        "id": "M--rmmwp6RXH",
        "outputId": "715920f2-7c45-41a7-9449-07e9f6e46a60"
      },
      "source": [
        "!wget https://github.com/sa-y-an/best_omr_models/raw/main/fold1_95_29.h5 \n",
        "!wget https://github.com/sa-y-an/best_omr_models/raw/main/fold2_95_88.h5 \n",
        "!wget https://github.com/sa-y-an/best_omr_models/raw/main/fold3_93_97.h5 \n",
        "!wget https://github.com/sa-y-an/best_omr_models/raw/main/fold4_97_45.h5 \n",
        "!wget https://github.com/sa-y-an/best_omr_models/raw/main/fold5_97_20.h5 "
      ],
      "execution_count": null,
      "outputs": [
        {
          "output_type": "stream",
          "text": [
            "--2021-05-10 14:24:43--  https://github.com/sa-y-an/best_omr_models/raw/main/fold1_95_29.h5\n",
            "Resolving github.com (github.com)... 140.82.113.3\n",
            "Connecting to github.com (github.com)|140.82.113.3|:443... connected.\n",
            "HTTP request sent, awaiting response... 302 Found\n",
            "Location: https://media.githubusercontent.com/media/sa-y-an/best_omr_models/main/fold1_95_29.h5 [following]\n",
            "--2021-05-10 14:24:43--  https://media.githubusercontent.com/media/sa-y-an/best_omr_models/main/fold1_95_29.h5\n",
            "Resolving media.githubusercontent.com (media.githubusercontent.com)... 185.199.108.133, 185.199.109.133, 185.199.110.133, ...\n",
            "Connecting to media.githubusercontent.com (media.githubusercontent.com)|185.199.108.133|:443... connected.\n",
            "HTTP request sent, awaiting response... 200 OK\n",
            "Length: 22212544 (21M) [application/octet-stream]\n",
            "Saving to: ‘fold1_95_29.h5’\n",
            "\n",
            "fold1_95_29.h5      100%[===================>]  21.18M  --.-KB/s    in 0.08s   \n",
            "\n",
            "2021-05-10 14:24:44 (260 MB/s) - ‘fold1_95_29.h5’ saved [22212544/22212544]\n",
            "\n",
            "--2021-05-10 14:24:44--  https://github.com/sa-y-an/best_omr_models/raw/main/fold2_95_88.h5\n",
            "Resolving github.com (github.com)... 140.82.113.3\n",
            "Connecting to github.com (github.com)|140.82.113.3|:443... connected.\n",
            "HTTP request sent, awaiting response... 302 Found\n",
            "Location: https://media.githubusercontent.com/media/sa-y-an/best_omr_models/main/fold2_95_88.h5 [following]\n",
            "--2021-05-10 14:24:44--  https://media.githubusercontent.com/media/sa-y-an/best_omr_models/main/fold2_95_88.h5\n",
            "Resolving media.githubusercontent.com (media.githubusercontent.com)... 185.199.108.133, 185.199.109.133, 185.199.110.133, ...\n",
            "Connecting to media.githubusercontent.com (media.githubusercontent.com)|185.199.108.133|:443... connected.\n",
            "HTTP request sent, awaiting response... 200 OK\n",
            "Length: 22212544 (21M) [application/octet-stream]\n",
            "Saving to: ‘fold2_95_88.h5’\n",
            "\n",
            "fold2_95_88.h5      100%[===================>]  21.18M  --.-KB/s    in 0.09s   \n",
            "\n",
            "2021-05-10 14:24:45 (223 MB/s) - ‘fold2_95_88.h5’ saved [22212544/22212544]\n",
            "\n",
            "--2021-05-10 14:24:45--  https://github.com/sa-y-an/best_omr_models/raw/main/fold3_93_97.h5\n",
            "Resolving github.com (github.com)... 140.82.113.3\n",
            "Connecting to github.com (github.com)|140.82.113.3|:443... connected.\n",
            "HTTP request sent, awaiting response... 302 Found\n",
            "Location: https://media.githubusercontent.com/media/sa-y-an/best_omr_models/main/fold3_93_97.h5 [following]\n",
            "--2021-05-10 14:24:45--  https://media.githubusercontent.com/media/sa-y-an/best_omr_models/main/fold3_93_97.h5\n",
            "Resolving media.githubusercontent.com (media.githubusercontent.com)... 185.199.108.133, 185.199.109.133, 185.199.110.133, ...\n",
            "Connecting to media.githubusercontent.com (media.githubusercontent.com)|185.199.108.133|:443... connected.\n",
            "HTTP request sent, awaiting response... 200 OK\n",
            "Length: 22212568 (21M) [application/octet-stream]\n",
            "Saving to: ‘fold3_93_97.h5’\n",
            "\n",
            "fold3_93_97.h5      100%[===================>]  21.18M  --.-KB/s    in 0.09s   \n",
            "\n",
            "2021-05-10 14:24:46 (240 MB/s) - ‘fold3_93_97.h5’ saved [22212568/22212568]\n",
            "\n",
            "--2021-05-10 14:24:46--  https://github.com/sa-y-an/best_omr_models/raw/main/fold4_97_45.h5\n",
            "Resolving github.com (github.com)... 140.82.113.3\n",
            "Connecting to github.com (github.com)|140.82.113.3|:443... connected.\n",
            "HTTP request sent, awaiting response... 302 Found\n",
            "Location: https://media.githubusercontent.com/media/sa-y-an/best_omr_models/main/fold4_97_45.h5 [following]\n",
            "--2021-05-10 14:24:46--  https://media.githubusercontent.com/media/sa-y-an/best_omr_models/main/fold4_97_45.h5\n",
            "Resolving media.githubusercontent.com (media.githubusercontent.com)... 185.199.108.133, 185.199.109.133, 185.199.110.133, ...\n",
            "Connecting to media.githubusercontent.com (media.githubusercontent.com)|185.199.108.133|:443... connected.\n",
            "HTTP request sent, awaiting response... 200 OK\n",
            "Length: 22212728 (21M) [application/octet-stream]\n",
            "Saving to: ‘fold4_97_45.h5’\n",
            "\n",
            "fold4_97_45.h5      100%[===================>]  21.18M  --.-KB/s    in 0.09s   \n",
            "\n",
            "2021-05-10 14:24:47 (229 MB/s) - ‘fold4_97_45.h5’ saved [22212728/22212728]\n",
            "\n",
            "--2021-05-10 14:24:47--  https://github.com/sa-y-an/best_omr_models/raw/main/fold5_97_20.h5\n",
            "Resolving github.com (github.com)... 140.82.113.3\n",
            "Connecting to github.com (github.com)|140.82.113.3|:443... connected.\n",
            "HTTP request sent, awaiting response... 302 Found\n",
            "Location: https://media.githubusercontent.com/media/sa-y-an/best_omr_models/main/fold5_97_20.h5 [following]\n",
            "--2021-05-10 14:24:47--  https://media.githubusercontent.com/media/sa-y-an/best_omr_models/main/fold5_97_20.h5\n",
            "Resolving media.githubusercontent.com (media.githubusercontent.com)... 185.199.108.133, 185.199.109.133, 185.199.110.133, ...\n",
            "Connecting to media.githubusercontent.com (media.githubusercontent.com)|185.199.108.133|:443... connected.\n",
            "HTTP request sent, awaiting response... 200 OK\n",
            "Length: 22212728 (21M) [application/octet-stream]\n",
            "Saving to: ‘fold5_97_20.h5’\n",
            "\n",
            "fold5_97_20.h5      100%[===================>]  21.18M  --.-KB/s    in 0.1s    \n",
            "\n",
            "2021-05-10 14:24:48 (188 MB/s) - ‘fold5_97_20.h5’ saved [22212728/22212728]\n",
            "\n"
          ],
          "name": "stdout"
        }
      ]
    },
    {
      "cell_type": "code",
      "metadata": {
        "id": "kFvCZmF-6pA1"
      },
      "source": [
        "from keras.models import load_model\n",
        "\n",
        "model1 = load_model('fold1_95_29.h5', custom_objects={'KerasLayer': hub.KerasLayer , 'fpflu_activation' :fpflu_activation , 'pflu_activation' : pflu_activation  })\n",
        "model2 = load_model('fold2_95_88.h5', custom_objects={'KerasLayer': hub.KerasLayer , 'fpflu_activation' :fpflu_activation , 'pflu_activation' : pflu_activation  })\n",
        "model3 = load_model('fold3_93_97.h5', custom_objects={'KerasLayer': hub.KerasLayer , 'fpflu_activation' :fpflu_activation , 'pflu_activation' : pflu_activation  })\n",
        "model4 = load_model('fold4_97_45.h5', custom_objects={'KerasLayer': hub.KerasLayer , 'fpflu_activation' :fpflu_activation , 'pflu_activation' : pflu_activation  })\n",
        "model5 = load_model('fold5_97_20.h5', custom_objects={'KerasLayer': hub.KerasLayer , 'fpflu_activation' :fpflu_activation , 'pflu_activation' : pflu_activation  })"
      ],
      "execution_count": null,
      "outputs": []
    },
    {
      "cell_type": "code",
      "metadata": {
        "id": "aZZIj4gn7aL5"
      },
      "source": [
        "AUTOTUNE = tf.data.AUTOTUNE\n",
        "\n",
        "img_ds1 = img_ds1.cache().prefetch(buffer_size=AUTOTUNE)\n",
        "img_ds2 = img_ds2.cache().prefetch(buffer_size=AUTOTUNE)\n",
        "img_ds3 = img_ds3.cache().prefetch(buffer_size=AUTOTUNE)\n",
        "img_ds4 = img_ds4.cache().prefetch(buffer_size=AUTOTUNE)\n",
        "img_ds5 = img_ds5.cache().prefetch(buffer_size=AUTOTUNE)"
      ],
      "execution_count": null,
      "outputs": []
    },
    {
      "cell_type": "code",
      "metadata": {
        "id": "dF8l2C-4rh4C"
      },
      "source": [
        "img_ds5?"
      ],
      "execution_count": null,
      "outputs": []
    },
    {
      "cell_type": "code",
      "metadata": {
        "colab": {
          "base_uri": "https://localhost:8080/"
        },
        "id": "m_n6wG5R6_C0",
        "outputId": "6a0096d6-64f0-4480-c9af-64ab38857fd7"
      },
      "source": [
        "gc.collect()\n",
        "libc = ctypes.CDLL(\"libc.so.6\") # clearing cache \n",
        "libc.malloc_trim(0)"
      ],
      "execution_count": null,
      "outputs": [
        {
          "output_type": "execute_result",
          "data": {
            "text/plain": [
              "0"
            ]
          },
          "metadata": {
            "tags": []
          },
          "execution_count": 10
        }
      ]
    },
    {
      "cell_type": "code",
      "metadata": {
        "colab": {
          "base_uri": "https://localhost:8080/",
          "height": 302
        },
        "id": "EE8GE0sj9cVx",
        "outputId": "15ccbde2-88d0-47e2-e3d6-99950be33dc4"
      },
      "source": [
        "predictions = []\n",
        "labels = []\n",
        "for x, y in img_ds1 :\n",
        "    predictions = np.concatenate([predictions, np.argmax(model1.predict(x), axis = -1 )])\n",
        "    labels = np.concatenate([labels, y.numpy()])\n",
        "\n",
        "\n",
        "cnn = tf.math.confusion_matrix(labels = labels , predictions = predictions )\n",
        "# print(cnn)\n",
        "f= np.array(cnn).trace()\n",
        "print(f/20.40)\n",
        "print(np.array(cnn).trace())\n",
        "g = sns.heatmap(cnn , annot = True , cmap = 'Blues' , fmt = 'd')\n"
      ],
      "execution_count": null,
      "outputs": [
        {
          "output_type": "stream",
          "text": [
            "95.29411764705883\n",
            "1944\n"
          ],
          "name": "stdout"
        },
        {
          "output_type": "display_data",
          "data": {
            "image/png": "[encoded data removed]",
            "text/plain": [
              "<Figure size 432x288 with 2 Axes>"
            ]
          },
          "metadata": {
            "tags": [],
            "needs_background": "light"
          }
        }
      ]
    },
    {
      "cell_type": "code",
      "metadata": {
        "colab": {
          "base_uri": "https://localhost:8080/"
        },
        "id": "AQGU2qvMBi9L",
        "outputId": "25ac52f3-33c1-4ba0-be9f-d2af26a3eded"
      },
      "source": [
        "gc.collect()\n",
        "libc = ctypes.CDLL(\"libc.so.6\") # clearing cache \n",
        "libc.malloc_trim(0)"
      ],
      "execution_count": null,
      "outputs": [
        {
          "output_type": "execute_result",
          "data": {
            "text/plain": [
              "0"
            ]
          },
          "metadata": {
            "tags": []
          },
          "execution_count": 12
        }
      ]
    },
    {
      "cell_type": "code",
      "metadata": {
        "colab": {
          "base_uri": "https://localhost:8080/",
          "height": 302
        },
        "id": "pFOMysrPBjrJ",
        "outputId": "b14b83ca-ee55-4323-9405-3037e3189f9c"
      },
      "source": [
        "predictions = []\n",
        "labels = []\n",
        "for x, y in img_ds2 :\n",
        "    predictions = np.concatenate([predictions, np.argmax(model2.predict(x), axis = -1 )])\n",
        "    labels = np.concatenate([labels, y.numpy()])\n",
        "\n",
        "\n",
        "cnn = tf.math.confusion_matrix(labels = labels , predictions = predictions )\n",
        "# print(cnn)\n",
        "f= np.array(cnn).trace()\n",
        "print(f/20.40)\n",
        "print(np.array(cnn).trace())\n",
        "g = sns.heatmap(cnn , annot = True , cmap = 'Blues' , fmt = 'd')\n",
        "del predictions, labels, x,y "
      ],
      "execution_count": null,
      "outputs": [
        {
          "output_type": "stream",
          "text": [
            "95.88235294117648\n",
            "1956\n"
          ],
          "name": "stdout"
        },
        {
          "output_type": "display_data",
          "data": {
            "image/png": "[encoded data removed]",
            "text/plain": [
              "<Figure size 432x288 with 2 Axes>"
            ]
          },
          "metadata": {
            "tags": [],
            "needs_background": "light"
          }
        }
      ]
    },
    {
      "cell_type": "code",
      "metadata": {
        "colab": {
          "base_uri": "https://localhost:8080/",
          "height": 302
        },
        "id": "bNbkdc69DNO7",
        "outputId": "0112023d-2b27-42d4-ba0b-cfd8689d2386"
      },
      "source": [
        "gc.collect()\n",
        "libc = ctypes.CDLL(\"libc.so.6\") # clearing cache \n",
        "libc.malloc_trim(0)\n",
        "\n",
        "\n",
        "predictions = []\n",
        "labels = []\n",
        "for x, y in img_ds3 :\n",
        "    predictions = np.concatenate([predictions, np.argmax(model3.predict(x), axis = -1 )])\n",
        "    labels = np.concatenate([labels, y.numpy()])\n",
        "\n",
        "\n",
        "cnn = tf.math.confusion_matrix(labels = labels , predictions = predictions )\n",
        "# print(cnn)\n",
        "f= np.array(cnn).trace()\n",
        "print(f/20.40)\n",
        "print(np.array(cnn).trace())\n",
        "g = sns.heatmap(cnn , annot = True , cmap = 'Blues' , fmt = 'd')\n",
        "del predictions, labels, x,y "
      ],
      "execution_count": null,
      "outputs": [
        {
          "output_type": "stream",
          "text": [
            "93.97058823529413\n",
            "1917\n"
          ],
          "name": "stdout"
        },
        {
          "output_type": "display_data",
          "data": {
            "image/png": "[encoded data removed]",
            "text/plain": [
              "<Figure size 432x288 with 2 Axes>"
            ]
          },
          "metadata": {
            "tags": [],
            "needs_background": "light"
          }
        }
      ]
    },
    {
      "cell_type": "code",
      "metadata": {
        "colab": {
          "base_uri": "https://localhost:8080/",
          "height": 302
        },
        "id": "RpwifzzJDiMH",
        "outputId": "f3a63c9b-15f3-4ba9-bde2-8ff8771fa80b"
      },
      "source": [
        "gc.collect()\n",
        "libc = ctypes.CDLL(\"libc.so.6\") # clearing cache \n",
        "libc.malloc_trim(0)\n",
        "\n",
        "\n",
        "predictions = []\n",
        "labels = []\n",
        "for x, y in img_ds4 :\n",
        "    predictions = np.concatenate([predictions, np.argmax(model4.predict(x), axis = -1 )])\n",
        "    labels = np.concatenate([labels, y.numpy()])\n",
        "\n",
        "\n",
        "cnn = tf.math.confusion_matrix(labels = labels , predictions = predictions )\n",
        "# print(cnn)\n",
        "f= np.array(cnn).trace()\n",
        "print(f/20.40)\n",
        "print(np.array(cnn).trace())\n",
        "g = sns.heatmap(cnn , annot = True , cmap = 'Blues' , fmt = 'd')\n",
        "del predictions, labels, x,y "
      ],
      "execution_count": null,
      "outputs": [
        {
          "output_type": "stream",
          "text": [
            "97.45098039215686\n",
            "1988\n"
          ],
          "name": "stdout"
        },
        {
          "output_type": "display_data",
          "data": {
            "image/png": "[encoded data removed]",
            "text/plain": [
              "<Figure size 432x288 with 2 Axes>"
            ]
          },
          "metadata": {
            "tags": [],
            "needs_background": "light"
          }
        }
      ]
    },
    {
      "cell_type": "code",
      "metadata": {
        "colab": {
          "base_uri": "https://localhost:8080/",
          "height": 302
        },
        "id": "ni4PfA8lDqEs",
        "outputId": "3ab67ade-9281-4a29-f0e2-ef554c6f8751"
      },
      "source": [
        "gc.collect()\n",
        "libc = ctypes.CDLL(\"libc.so.6\") # clearing cache \n",
        "libc.malloc_trim(0)\n",
        "\n",
        "\n",
        "predictions = []\n",
        "labels = []\n",
        "for x, y in img_ds5 :\n",
        "    predictions = np.concatenate([predictions, np.argmax(model5.predict(x), axis = -1 )])\n",
        "    labels = np.concatenate([labels, y.numpy()])\n",
        "\n",
        "\n",
        "cnn = tf.math.confusion_matrix(labels = labels , predictions = predictions )\n",
        "# print(cnn)\n",
        "f= np.array(cnn).trace()\n",
        "print(f/20.40)\n",
        "print(np.array(cnn).trace())\n",
        "g = sns.heatmap(cnn , annot = True , cmap = 'Blues' , fmt = 'd')\n",
        "del predictions, labels, x,y "
      ],
      "execution_count": null,
      "outputs": [
        {
          "output_type": "stream",
          "text": [
            "97.20588235294119\n",
            "1983\n"
          ],
          "name": "stdout"
        },
        {
          "output_type": "display_data",
          "data": {
            "image/png": "[encoded data removed]",
            "text/plain": [
              "<Figure size 432x288 with 2 Axes>"
            ]
          },
          "metadata": {
            "tags": [],
            "needs_background": "light"
          }
        }
      ]
    }
  ]
}